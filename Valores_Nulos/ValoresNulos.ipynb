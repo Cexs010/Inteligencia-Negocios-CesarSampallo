{
 "cells": [
  {
   "cell_type": "code",
   "execution_count": 1,
   "metadata": {},
   "outputs": [],
   "source": [
    "#librerias a usar\n",
    "import pandas as pd \n",
    "import numpy as np\n",
    "import matplotlib.pyplot as plt\n",
    "import seaborn as sns"
   ]
  },
  {
   "cell_type": "code",
   "execution_count": 4,
   "metadata": {},
   "outputs": [
    {
     "data": {
      "text/html": [
       "<div>\n",
       "<style scoped>\n",
       "    .dataframe tbody tr th:only-of-type {\n",
       "        vertical-align: middle;\n",
       "    }\n",
       "\n",
       "    .dataframe tbody tr th {\n",
       "        vertical-align: top;\n",
       "    }\n",
       "\n",
       "    .dataframe thead th {\n",
       "        text-align: right;\n",
       "    }\n",
       "</style>\n",
       "<table border=\"1\" class=\"dataframe\">\n",
       "  <thead>\n",
       "    <tr style=\"text-align: right;\">\n",
       "      <th></th>\n",
       "      <th>Unnamed: 0</th>\n",
       "      <th>Esta es una base de datos que describe las operaciones inmobiliarias de una empresa</th>\n",
       "      <th>Unnamed: 1</th>\n",
       "      <th>Unnamed: 2</th>\n",
       "      <th>Unnamed: 3</th>\n",
       "      <th>Unnamed: 4</th>\n",
       "      <th>Unnamed: 5</th>\n",
       "      <th>Unnamed: 6</th>\n",
       "      <th>Unnamed: 7</th>\n",
       "      <th>Unnamed: 8</th>\n",
       "    </tr>\n",
       "  </thead>\n",
       "  <tbody>\n",
       "    <tr>\n",
       "      <th>0</th>\n",
       "      <td>0</td>\n",
       "      <td>Referencia</td>\n",
       "      <td>Fecha Alta</td>\n",
       "      <td>Tipo</td>\n",
       "      <td>Operación</td>\n",
       "      <td>Provincia</td>\n",
       "      <td>Superficie</td>\n",
       "      <td>Precio Venta</td>\n",
       "      <td>Fecha Venta</td>\n",
       "      <td>Vendedor</td>\n",
       "    </tr>\n",
       "    <tr>\n",
       "      <th>1</th>\n",
       "      <td>1</td>\n",
       "      <td>1</td>\n",
       "      <td>2004-01-01 00:00:00</td>\n",
       "      <td>Parking</td>\n",
       "      <td>Alquiler</td>\n",
       "      <td>Lleida</td>\n",
       "      <td>291</td>\n",
       "      <td>2133903</td>\n",
       "      <td>2004-06-19 00:00:00</td>\n",
       "      <td>Carmen</td>\n",
       "    </tr>\n",
       "    <tr>\n",
       "      <th>2</th>\n",
       "      <td>2</td>\n",
       "      <td>2</td>\n",
       "      <td>2004-01-01 00:00:00</td>\n",
       "      <td>Local</td>\n",
       "      <td>Venta</td>\n",
       "      <td>Girona</td>\n",
       "      <td>185</td>\n",
       "      <td>1945424</td>\n",
       "      <td>2004-04-19 00:00:00</td>\n",
       "      <td>Pedro</td>\n",
       "    </tr>\n",
       "    <tr>\n",
       "      <th>3</th>\n",
       "      <td>3</td>\n",
       "      <td>3</td>\n",
       "      <td>2004-01-01 00:00:00</td>\n",
       "      <td>Oficina</td>\n",
       "      <td>Alquiler</td>\n",
       "      <td>Girona</td>\n",
       "      <td>82</td>\n",
       "      <td>NaN</td>\n",
       "      <td>2004-11-08 00:00:00</td>\n",
       "      <td>Joaquín</td>\n",
       "    </tr>\n",
       "    <tr>\n",
       "      <th>4</th>\n",
       "      <td>4</td>\n",
       "      <td>4</td>\n",
       "      <td>2004-01-02 00:00:00</td>\n",
       "      <td>Parking</td>\n",
       "      <td>Alquiler</td>\n",
       "      <td>Girona</td>\n",
       "      <td>285</td>\n",
       "      <td>NaN</td>\n",
       "      <td>2004-04-27 00:00:00</td>\n",
       "      <td>Jesús</td>\n",
       "    </tr>\n",
       "  </tbody>\n",
       "</table>\n",
       "</div>"
      ],
      "text/plain": [
       "   Unnamed: 0  \\\n",
       "0           0   \n",
       "1           1   \n",
       "2           2   \n",
       "3           3   \n",
       "4           4   \n",
       "\n",
       "  Esta es una base de datos que describe las operaciones inmobiliarias de una empresa  \\\n",
       "0                                         Referencia                                    \n",
       "1                                                  1                                    \n",
       "2                                                  2                                    \n",
       "3                                                  3                                    \n",
       "4                                                  4                                    \n",
       "\n",
       "            Unnamed: 1 Unnamed: 2 Unnamed: 3 Unnamed: 4  Unnamed: 5  \\\n",
       "0           Fecha Alta       Tipo  Operación  Provincia  Superficie   \n",
       "1  2004-01-01 00:00:00    Parking   Alquiler     Lleida         291   \n",
       "2  2004-01-01 00:00:00      Local      Venta     Girona         185   \n",
       "3  2004-01-01 00:00:00    Oficina   Alquiler     Girona          82   \n",
       "4  2004-01-02 00:00:00    Parking   Alquiler     Girona         285   \n",
       "\n",
       "     Unnamed: 6           Unnamed: 7 Unnamed: 8  \n",
       "0  Precio Venta          Fecha Venta   Vendedor  \n",
       "1       2133903  2004-06-19 00:00:00     Carmen  \n",
       "2       1945424  2004-04-19 00:00:00      Pedro  \n",
       "3           NaN  2004-11-08 00:00:00    Joaquín  \n",
       "4           NaN  2004-04-27 00:00:00      Jesús  "
      ]
     },
     "execution_count": 4,
     "metadata": {},
     "output_type": "execute_result"
    }
   ],
   "source": [
    "#cargar archivo csv\n",
    "data = pd.read_csv('inmuebles2.csv')\n",
    "data.head(5)"
   ]
  },
  {
   "cell_type": "code",
   "execution_count": 8,
   "metadata": {},
   "outputs": [
    {
     "data": {
      "text/html": [
       "<div>\n",
       "<style scoped>\n",
       "    .dataframe tbody tr th:only-of-type {\n",
       "        vertical-align: middle;\n",
       "    }\n",
       "\n",
       "    .dataframe tbody tr th {\n",
       "        vertical-align: top;\n",
       "    }\n",
       "\n",
       "    .dataframe thead th {\n",
       "        text-align: right;\n",
       "    }\n",
       "</style>\n",
       "<table border=\"1\" class=\"dataframe\">\n",
       "  <thead>\n",
       "    <tr style=\"text-align: right;\">\n",
       "      <th></th>\n",
       "      <th>0</th>\n",
       "      <th>Referencia</th>\n",
       "      <th>Fecha Alta</th>\n",
       "      <th>Tipo</th>\n",
       "      <th>Operación</th>\n",
       "      <th>Provincia</th>\n",
       "      <th>Superficie</th>\n",
       "      <th>Precio Venta</th>\n",
       "      <th>Fecha Venta</th>\n",
       "      <th>Vendedor</th>\n",
       "    </tr>\n",
       "  </thead>\n",
       "  <tbody>\n",
       "    <tr>\n",
       "      <th>0</th>\n",
       "      <td>1</td>\n",
       "      <td>1</td>\n",
       "      <td>2004-01-01 00:00:00</td>\n",
       "      <td>Parking</td>\n",
       "      <td>Alquiler</td>\n",
       "      <td>Lleida</td>\n",
       "      <td>291.0</td>\n",
       "      <td>2133903.0</td>\n",
       "      <td>2004-06-19 00:00:00</td>\n",
       "      <td>Carmen</td>\n",
       "    </tr>\n",
       "    <tr>\n",
       "      <th>1</th>\n",
       "      <td>2</td>\n",
       "      <td>2</td>\n",
       "      <td>2004-01-01 00:00:00</td>\n",
       "      <td>Local</td>\n",
       "      <td>Venta</td>\n",
       "      <td>Girona</td>\n",
       "      <td>185.0</td>\n",
       "      <td>1945424.0</td>\n",
       "      <td>2004-04-19 00:00:00</td>\n",
       "      <td>Pedro</td>\n",
       "    </tr>\n",
       "    <tr>\n",
       "      <th>2</th>\n",
       "      <td>3</td>\n",
       "      <td>3</td>\n",
       "      <td>2004-01-01 00:00:00</td>\n",
       "      <td>Oficina</td>\n",
       "      <td>Alquiler</td>\n",
       "      <td>Girona</td>\n",
       "      <td>82.0</td>\n",
       "      <td>NaN</td>\n",
       "      <td>2004-11-08 00:00:00</td>\n",
       "      <td>Joaquín</td>\n",
       "    </tr>\n",
       "    <tr>\n",
       "      <th>3</th>\n",
       "      <td>4</td>\n",
       "      <td>4</td>\n",
       "      <td>2004-01-02 00:00:00</td>\n",
       "      <td>Parking</td>\n",
       "      <td>Alquiler</td>\n",
       "      <td>Girona</td>\n",
       "      <td>285.0</td>\n",
       "      <td>NaN</td>\n",
       "      <td>2004-04-27 00:00:00</td>\n",
       "      <td>Jesús</td>\n",
       "    </tr>\n",
       "    <tr>\n",
       "      <th>4</th>\n",
       "      <td>5</td>\n",
       "      <td>5</td>\n",
       "      <td>2004-01-02 00:00:00</td>\n",
       "      <td>Suelo</td>\n",
       "      <td>Venta</td>\n",
       "      <td>Tarragona</td>\n",
       "      <td>152.0</td>\n",
       "      <td>185000.0</td>\n",
       "      <td>2004-07-10 00:00:00</td>\n",
       "      <td>María</td>\n",
       "    </tr>\n",
       "  </tbody>\n",
       "</table>\n",
       "</div>"
      ],
      "text/plain": [
       "   0  Referencia           Fecha Alta     Tipo Operación  Provincia  \\\n",
       "0  1           1  2004-01-01 00:00:00  Parking  Alquiler     Lleida   \n",
       "1  2           2  2004-01-01 00:00:00    Local     Venta     Girona   \n",
       "2  3           3  2004-01-01 00:00:00  Oficina  Alquiler     Girona   \n",
       "3  4           4  2004-01-02 00:00:00  Parking  Alquiler     Girona   \n",
       "4  5           5  2004-01-02 00:00:00    Suelo     Venta  Tarragona   \n",
       "\n",
       "   Superficie  Precio Venta          Fecha Venta Vendedor  \n",
       "0       291.0     2133903.0  2004-06-19 00:00:00   Carmen  \n",
       "1       185.0     1945424.0  2004-04-19 00:00:00    Pedro  \n",
       "2        82.0           NaN  2004-11-08 00:00:00  Joaquín  \n",
       "3       285.0           NaN  2004-04-27 00:00:00    Jesús  \n",
       "4       152.0      185000.0  2004-07-10 00:00:00    María  "
      ]
     },
     "execution_count": 8,
     "metadata": {},
     "output_type": "execute_result"
    }
   ],
   "source": [
    "#Eliminar primera fila o filas innecesarias\n",
    "data1 = pd.read_csv('inmuebles2.csv', skiprows=1)\n",
    "data1.head(5)"
   ]
  },
  {
   "cell_type": "code",
   "execution_count": 10,
   "metadata": {},
   "outputs": [
    {
     "data": {
      "text/html": [
       "<div>\n",
       "<style scoped>\n",
       "    .dataframe tbody tr th:only-of-type {\n",
       "        vertical-align: middle;\n",
       "    }\n",
       "\n",
       "    .dataframe tbody tr th {\n",
       "        vertical-align: top;\n",
       "    }\n",
       "\n",
       "    .dataframe thead th {\n",
       "        text-align: right;\n",
       "    }\n",
       "</style>\n",
       "<table border=\"1\" class=\"dataframe\">\n",
       "  <thead>\n",
       "    <tr style=\"text-align: right;\">\n",
       "      <th></th>\n",
       "      <th>Fecha Alta</th>\n",
       "      <th>Tipo</th>\n",
       "      <th>Operación</th>\n",
       "      <th>Provincia</th>\n",
       "      <th>Superficie</th>\n",
       "      <th>Precio Venta</th>\n",
       "      <th>Fecha Venta</th>\n",
       "      <th>Vendedor</th>\n",
       "    </tr>\n",
       "  </thead>\n",
       "  <tbody>\n",
       "    <tr>\n",
       "      <th>0</th>\n",
       "      <td>2004-01-01 00:00:00</td>\n",
       "      <td>Parking</td>\n",
       "      <td>Alquiler</td>\n",
       "      <td>Lleida</td>\n",
       "      <td>291.0</td>\n",
       "      <td>2133903.0</td>\n",
       "      <td>2004-06-19 00:00:00</td>\n",
       "      <td>Carmen</td>\n",
       "    </tr>\n",
       "    <tr>\n",
       "      <th>1</th>\n",
       "      <td>2004-01-01 00:00:00</td>\n",
       "      <td>Local</td>\n",
       "      <td>Venta</td>\n",
       "      <td>Girona</td>\n",
       "      <td>185.0</td>\n",
       "      <td>1945424.0</td>\n",
       "      <td>2004-04-19 00:00:00</td>\n",
       "      <td>Pedro</td>\n",
       "    </tr>\n",
       "    <tr>\n",
       "      <th>2</th>\n",
       "      <td>2004-01-01 00:00:00</td>\n",
       "      <td>Oficina</td>\n",
       "      <td>Alquiler</td>\n",
       "      <td>Girona</td>\n",
       "      <td>82.0</td>\n",
       "      <td>NaN</td>\n",
       "      <td>2004-11-08 00:00:00</td>\n",
       "      <td>Joaquín</td>\n",
       "    </tr>\n",
       "    <tr>\n",
       "      <th>3</th>\n",
       "      <td>2004-01-02 00:00:00</td>\n",
       "      <td>Parking</td>\n",
       "      <td>Alquiler</td>\n",
       "      <td>Girona</td>\n",
       "      <td>285.0</td>\n",
       "      <td>NaN</td>\n",
       "      <td>2004-04-27 00:00:00</td>\n",
       "      <td>Jesús</td>\n",
       "    </tr>\n",
       "    <tr>\n",
       "      <th>4</th>\n",
       "      <td>2004-01-02 00:00:00</td>\n",
       "      <td>Suelo</td>\n",
       "      <td>Venta</td>\n",
       "      <td>Tarragona</td>\n",
       "      <td>152.0</td>\n",
       "      <td>185000.0</td>\n",
       "      <td>2004-07-10 00:00:00</td>\n",
       "      <td>María</td>\n",
       "    </tr>\n",
       "  </tbody>\n",
       "</table>\n",
       "</div>"
      ],
      "text/plain": [
       "            Fecha Alta     Tipo Operación  Provincia  Superficie  \\\n",
       "0  2004-01-01 00:00:00  Parking  Alquiler     Lleida       291.0   \n",
       "1  2004-01-01 00:00:00    Local     Venta     Girona       185.0   \n",
       "2  2004-01-01 00:00:00  Oficina  Alquiler     Girona        82.0   \n",
       "3  2004-01-02 00:00:00  Parking  Alquiler     Girona       285.0   \n",
       "4  2004-01-02 00:00:00    Suelo     Venta  Tarragona       152.0   \n",
       "\n",
       "   Precio Venta          Fecha Venta Vendedor  \n",
       "0     2133903.0  2004-06-19 00:00:00   Carmen  \n",
       "1     1945424.0  2004-04-19 00:00:00    Pedro  \n",
       "2           NaN  2004-11-08 00:00:00  Joaquín  \n",
       "3           NaN  2004-04-27 00:00:00    Jesús  \n",
       "4      185000.0  2004-07-10 00:00:00    María  "
      ]
     },
     "execution_count": 10,
     "metadata": {},
     "output_type": "execute_result"
    }
   ],
   "source": [
    "#Eliminar columnas innecesarias con drop\n",
    "#axis1 es para columnas y axis0 es para filas\n",
    "data2 = data1.drop(['0','Referencia'], axis=1)\n",
    "data2.head(5)"
   ]
  },
  {
   "cell_type": "code",
   "execution_count": 11,
   "metadata": {},
   "outputs": [
    {
     "data": {
      "text/plain": [
       "Fecha Alta        2\n",
       "Tipo              2\n",
       "Operación         1\n",
       "Provincia         4\n",
       "Superficie        4\n",
       "Precio Venta      6\n",
       "Fecha Venta     578\n",
       "Vendedor        578\n",
       "dtype: int64"
      ]
     },
     "execution_count": 11,
     "metadata": {},
     "output_type": "execute_result"
    }
   ],
   "source": [
    "#identificar valores nulos por columna\n",
    "valores_nulos = data2.isnull().sum()\n",
    "valores_nulos"
   ]
  },
  {
   "cell_type": "code",
   "execution_count": 12,
   "metadata": {},
   "outputs": [
    {
     "data": {
      "text/plain": [
       "np.int64(1175)"
      ]
     },
     "execution_count": 12,
     "metadata": {},
     "output_type": "execute_result"
    }
   ],
   "source": [
    "#Identificar valores nulos por data frame\n",
    "valores_nulos = data2.isnull().sum().sum()\n",
    "valores_nulos"
   ]
  },
  {
   "cell_type": "markdown",
   "metadata": {},
   "source": [
    "**Método de Sustitución por Valores Nulos**"
   ]
  },
  {
   "cell_type": "code",
   "execution_count": 14,
   "metadata": {},
   "outputs": [],
   "source": [
    "#Realizamos una copia del data frame\n",
    "data3 = data2.copy()"
   ]
  },
  {
   "cell_type": "code",
   "execution_count": 16,
   "metadata": {},
   "outputs": [
    {
     "data": {
      "text/plain": [
       "Fecha Alta        2\n",
       "Tipo              2\n",
       "Operación         1\n",
       "Provincia         4\n",
       "Superficie        0\n",
       "Precio Venta      6\n",
       "Fecha Venta     578\n",
       "Vendedor        578\n",
       "dtype: int64"
      ]
     },
     "execution_count": 16,
     "metadata": {},
     "output_type": "execute_result"
    }
   ],
   "source": [
    "#Primer método de sustitución de valores nulos\n",
    "#Sustituir valores nulos con promedio \n",
    "data3['Superficie'] = data3['Superficie'].fillna(round(data2['Superficie'].mean(),1))\n",
    "valores_nulos = data3.isnull().sum()\n",
    "valores_nulos"
   ]
  },
  {
   "cell_type": "code",
   "execution_count": 17,
   "metadata": {},
   "outputs": [
    {
     "data": {
      "text/plain": [
       "Fecha Alta        2\n",
       "Tipo              2\n",
       "Operación         1\n",
       "Provincia         4\n",
       "Superficie        0\n",
       "Precio Venta      0\n",
       "Fecha Venta     578\n",
       "Vendedor        578\n",
       "dtype: int64"
      ]
     },
     "execution_count": 17,
     "metadata": {},
     "output_type": "execute_result"
    }
   ],
   "source": [
    "#Segundo método de sustitución de valores nulos\n",
    "#Sustituir valores nulos con la mediana \n",
    "data3['Precio Venta'] = data3['Precio Venta'].fillna(round(data2['Precio Venta'].median(),1))\n",
    "valores_nulos = data3.isnull().sum()\n",
    "valores_nulos"
   ]
  },
  {
   "cell_type": "code",
   "execution_count": 21,
   "metadata": {},
   "outputs": [
    {
     "data": {
      "text/plain": [
       "Fecha Alta        0\n",
       "Tipo              2\n",
       "Operación         1\n",
       "Provincia         4\n",
       "Superficie        0\n",
       "Precio Venta      0\n",
       "Fecha Venta     578\n",
       "Vendedor        578\n",
       "dtype: int64"
      ]
     },
     "execution_count": 21,
     "metadata": {},
     "output_type": "execute_result"
    }
   ],
   "source": [
    "#Tercer metodo para sustitucion en variables numericas\n",
    "#susituir valores nulos por un valor numerico en concreto\n",
    "data3['Fecha Alta'] = data3['Fecha Alta'].fillna(10)\n",
    "valores_nulos = data3.isnull().sum()\n",
    "valores_nulos"
   ]
  },
  {
   "cell_type": "code",
   "execution_count": 22,
   "metadata": {},
   "outputs": [
    {
     "data": {
      "text/plain": [
       "Fecha Alta        0\n",
       "Tipo              2\n",
       "Operación         1\n",
       "Provincia         4\n",
       "Superficie        0\n",
       "Precio Venta      0\n",
       "Fecha Venta       0\n",
       "Vendedor        578\n",
       "dtype: int64"
      ]
     },
     "execution_count": 22,
     "metadata": {},
     "output_type": "execute_result"
    }
   ],
   "source": [
    "#cuarto método de sustitución de valores nulos\n",
    "#Sustituir valores nulos  por un string en concreto\n",
    "data3['Fecha Venta'] = data3['Fecha Venta'].fillna('2030-06-19 00:00:00')\n",
    "valores_nulos = data3.isnull().sum()\n",
    "valores_nulos"
   ]
  },
  {
   "cell_type": "code",
   "execution_count": 23,
   "metadata": {},
   "outputs": [
    {
     "name": "stderr",
     "output_type": "stream",
     "text": [
      "C:\\Users\\cesar\\AppData\\Local\\Temp\\ipykernel_22564\\1808662535.py:4: FutureWarning: Series.fillna with 'method' is deprecated and will raise in a future version. Use obj.ffill() or obj.bfill() instead.\n",
      "  data3['Tipo'] = data3['Tipo'].fillna(method='ffill')\n"
     ]
    },
    {
     "data": {
      "text/plain": [
       "Fecha Alta        0\n",
       "Tipo              0\n",
       "Operación         1\n",
       "Provincia         4\n",
       "Superficie        0\n",
       "Precio Venta      0\n",
       "Fecha Venta       0\n",
       "Vendedor        578\n",
       "dtype: int64"
      ]
     },
     "execution_count": 23,
     "metadata": {},
     "output_type": "execute_result"
    }
   ],
   "source": [
    "#Quinto método de sustitución de valores nulos\n",
    "#Sustituir valores nulos por valores no nulos hacia adelante \"foward fill\"\n",
    "#filtro por columna\n",
    "data3['Tipo'] = data3['Tipo'].fillna(method='ffill')\n",
    "valores_nulos = data3.isnull().sum()\n",
    "valores_nulos"
   ]
  },
  {
   "cell_type": "code",
   "execution_count": 24,
   "metadata": {},
   "outputs": [
    {
     "name": "stderr",
     "output_type": "stream",
     "text": [
      "C:\\Users\\cesar\\AppData\\Local\\Temp\\ipykernel_22564\\2668890149.py:4: FutureWarning: Series.fillna with 'method' is deprecated and will raise in a future version. Use obj.ffill() or obj.bfill() instead.\n",
      "  data3['Operación'] = data3['Operación'].fillna(method='bfill')\n"
     ]
    },
    {
     "data": {
      "text/plain": [
       "Fecha Alta        0\n",
       "Tipo              0\n",
       "Operación         0\n",
       "Provincia         4\n",
       "Superficie        0\n",
       "Precio Venta      0\n",
       "Fecha Venta       0\n",
       "Vendedor        578\n",
       "dtype: int64"
      ]
     },
     "execution_count": 24,
     "metadata": {},
     "output_type": "execute_result"
    }
   ],
   "source": [
    "#Sextp método de sustitución de valores nulos\t\n",
    "#Sustituir valores nulos por valores no nulos hacia atras \"backward fill\"\n",
    "#filtro por columna\n",
    "data3['Operación'] = data3['Operación'].fillna(method='bfill')\n",
    "valores_nulos = data3.isnull().sum()\n",
    "valores_nulos"
   ]
  },
  {
   "cell_type": "code",
   "execution_count": 25,
   "metadata": {},
   "outputs": [
    {
     "name": "stderr",
     "output_type": "stream",
     "text": [
      "C:\\Users\\cesar\\AppData\\Local\\Temp\\ipykernel_22564\\1182096155.py:1: FutureWarning: Series.fillna with 'method' is deprecated and will raise in a future version. Use obj.ffill() or obj.bfill() instead.\n",
      "  data3['Provincia'] = data3['Provincia'].fillna(method='bfill')\n"
     ]
    },
    {
     "data": {
      "text/plain": [
       "Fecha Alta        0\n",
       "Tipo              0\n",
       "Operación         0\n",
       "Provincia         0\n",
       "Superficie        0\n",
       "Precio Venta      0\n",
       "Fecha Venta       0\n",
       "Vendedor        578\n",
       "dtype: int64"
      ]
     },
     "execution_count": 25,
     "metadata": {},
     "output_type": "execute_result"
    }
   ],
   "source": [
    "data3['Provincia'] = data3['Provincia'].fillna(method='bfill')\n",
    "valores_nulos = data3.isnull().sum()\n",
    "valores_nulos"
   ]
  },
  {
   "cell_type": "code",
   "execution_count": 26,
   "metadata": {},
   "outputs": [
    {
     "name": "stderr",
     "output_type": "stream",
     "text": [
      "C:\\Users\\cesar\\AppData\\Local\\Temp\\ipykernel_22564\\261798344.py:1: FutureWarning: Series.fillna with 'method' is deprecated and will raise in a future version. Use obj.ffill() or obj.bfill() instead.\n",
      "  data3['Vendedor'] = data3['Vendedor'].fillna(method='ffill')\n"
     ]
    },
    {
     "data": {
      "text/plain": [
       "Fecha Alta      0\n",
       "Tipo            0\n",
       "Operación       0\n",
       "Provincia       0\n",
       "Superficie      0\n",
       "Precio Venta    0\n",
       "Fecha Venta     0\n",
       "Vendedor        0\n",
       "dtype: int64"
      ]
     },
     "execution_count": 26,
     "metadata": {},
     "output_type": "execute_result"
    }
   ],
   "source": [
    "data3['Vendedor'] = data3['Vendedor'].fillna(method='ffill')\n",
    "valores_nulos = data3.isnull().sum()\n",
    "valores_nulos"
   ]
  },
  {
   "cell_type": "markdown",
   "metadata": {},
   "source": [
    "**Método de eliminación por valores**"
   ]
  },
  {
   "cell_type": "code",
   "execution_count": 28,
   "metadata": {},
   "outputs": [
    {
     "data": {
      "text/plain": [
       "Fecha Alta        2\n",
       "Tipo              2\n",
       "Operación         1\n",
       "Provincia         4\n",
       "Superficie        4\n",
       "Precio Venta      6\n",
       "Fecha Venta     578\n",
       "Vendedor        578\n",
       "dtype: int64"
      ]
     },
     "execution_count": 28,
     "metadata": {},
     "output_type": "execute_result"
    }
   ],
   "source": [
    "data4 = data2.copy()\n",
    "valores_nulos = data4.isnull().sum()\n",
    "valores_nulos"
   ]
  },
  {
   "cell_type": "code",
   "execution_count": 30,
   "metadata": {},
   "outputs": [
    {
     "data": {
      "text/plain": [
       "Fecha Alta      0\n",
       "Tipo            0\n",
       "Operación       0\n",
       "Provincia       0\n",
       "Superficie      0\n",
       "Precio Venta    0\n",
       "Fecha Venta     0\n",
       "Vendedor        0\n",
       "dtype: int64"
      ]
     },
     "execution_count": 30,
     "metadata": {},
     "output_type": "execute_result"
    }
   ],
   "source": [
    "#Eliminamos filas con nulos\n",
    "#No se agrega nada para eliminar filas y 1 para eliminar columnas\n",
    "data4 = data2.dropna()\n",
    "valores_nulos = data4.isnull().sum()\n",
    "valores_nulos"
   ]
  },
  {
   "cell_type": "markdown",
   "metadata": {},
   "source": [
    "**Comparamos DataFrame3(Sustitución) y DataFrame4(Eliminación)**"
   ]
  },
  {
   "cell_type": "code",
   "execution_count": 32,
   "metadata": {},
   "outputs": [
    {
     "name": "stdout",
     "output_type": "stream",
     "text": [
      "<class 'pandas.core.frame.DataFrame'>\n",
      "RangeIndex: 3337 entries, 0 to 3336\n",
      "Data columns (total 8 columns):\n",
      " #   Column        Non-Null Count  Dtype  \n",
      "---  ------        --------------  -----  \n",
      " 0   Fecha Alta    3337 non-null   object \n",
      " 1   Tipo          3337 non-null   object \n",
      " 2   Operación     3337 non-null   object \n",
      " 3   Provincia     3337 non-null   object \n",
      " 4   Superficie    3337 non-null   float64\n",
      " 5   Precio Venta  3337 non-null   float64\n",
      " 6   Fecha Venta   3337 non-null   object \n",
      " 7   Vendedor      3337 non-null   object \n",
      "dtypes: float64(2), object(6)\n",
      "memory usage: 208.7+ KB\n"
     ]
    }
   ],
   "source": [
    "data3.info()"
   ]
  },
  {
   "cell_type": "code",
   "execution_count": 31,
   "metadata": {},
   "outputs": [
    {
     "name": "stdout",
     "output_type": "stream",
     "text": [
      "<class 'pandas.core.frame.DataFrame'>\n",
      "Index: 2747 entries, 0 to 3045\n",
      "Data columns (total 8 columns):\n",
      " #   Column        Non-Null Count  Dtype  \n",
      "---  ------        --------------  -----  \n",
      " 0   Fecha Alta    2747 non-null   object \n",
      " 1   Tipo          2747 non-null   object \n",
      " 2   Operación     2747 non-null   object \n",
      " 3   Provincia     2747 non-null   object \n",
      " 4   Superficie    2747 non-null   float64\n",
      " 5   Precio Venta  2747 non-null   float64\n",
      " 6   Fecha Venta   2747 non-null   object \n",
      " 7   Vendedor      2747 non-null   object \n",
      "dtypes: float64(2), object(6)\n",
      "memory usage: 193.1+ KB\n"
     ]
    }
   ],
   "source": [
    "data4.info()"
   ]
  },
  {
   "cell_type": "code",
   "execution_count": 33,
   "metadata": {},
   "outputs": [],
   "source": [
    "data3.to_csv('inmuebles_sin_nulos.csv')"
   ]
  }
 ],
 "metadata": {
  "kernelspec": {
   "display_name": "Python 3",
   "language": "python",
   "name": "python3"
  },
  "language_info": {
   "codemirror_mode": {
    "name": "ipython",
    "version": 3
   },
   "file_extension": ".py",
   "mimetype": "text/x-python",
   "name": "python",
   "nbconvert_exporter": "python",
   "pygments_lexer": "ipython3",
   "version": "3.12.8"
  }
 },
 "nbformat": 4,
 "nbformat_minor": 2
}
